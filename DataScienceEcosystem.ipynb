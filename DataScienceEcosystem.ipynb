{
 "cells": [
  {
   "cell_type": "markdown",
   "id": "53223419-693f-42ed-b16e-bbb6001ec752",
   "metadata": {},
   "source": [
    "# Data Science Tools and Ecosystem "
   ]
  },
  {
   "cell_type": "markdown",
   "id": "9fdb57f3-3731-4a2e-824b-05e741c0998a",
   "metadata": {},
   "source": [
    "In this notebook, Data Science Tools and Ecosystem are summarized."
   ]
  },
  {
   "cell_type": "markdown",
   "id": "19cd793e-4f01-41aa-bc7c-a66767b569ce",
   "metadata": {
    "tags": []
   },
   "source": [
    "**Objectives:**\n",
    "\n",
    "- Introduce key concepts in data science.\n",
    "- Explore popular languages used in data science.\n",
    "- Understand common libraries employed by data scientists.\n",
    "- Demonstrate the use of Jupyter Notebooks and RStudio.\n",
    "- Highlight essential tools and environments in data science."
   ]
  },
  {
   "cell_type": "markdown",
   "id": "c279763e-e2a6-4d4a-a45b-5a4c4c2adc49",
   "metadata": {
    "tags": []
   },
   "source": [
    "Some of the popular languages that Data Scientists use are: \n",
    " 1. Python\n",
    " 2. R\n",
    " 3. SQL\n",
    " 4. C++\n",
    " 5. Java "
   ]
  },
  {
   "cell_type": "markdown",
   "id": "a52dd6e9-6a0e-4914-87f7-6387b66e227b",
   "metadata": {},
   "source": [
    "Some of the commonly used libraries used by Data Scientists include: \n",
    "1. Pandas\n",
    "2. Numpy\n",
    "3. Scikit-learn\n",
    "4. Matplotlib\n",
    "5. TensorFlow and PyTorch"
   ]
  },
  {
   "cell_type": "markdown",
   "id": "dab03c3d-bb38-4878-b63c-ce9bd4f7b7d8",
   "metadata": {},
   "source": [
    "| Data Science Tools       |\n",
    "|--------------------------|\n",
    "| Jupyter Notebooks        |\n",
    "| RStudio                  |\n",
    "| VS Code with Python      |"
   ]
  },
  {
   "cell_type": "markdown",
   "id": "4698c4f4-90a2-4fe3-bf1f-e48243c9881e",
   "metadata": {},
   "source": [
    "### Below are a few examples of evaluating arithmetic expressions in Python"
   ]
  },
  {
   "cell_type": "code",
   "execution_count": 26,
   "id": "11dbff2a-9494-4c13-8cac-0ed6673bb037",
   "metadata": {
    "tags": []
   },
   "outputs": [
    {
     "data": {
      "text/plain": [
       "17"
      ]
     },
     "execution_count": 26,
     "metadata": {},
     "output_type": "execute_result"
    }
   ],
   "source": [
    "#This a simple arithmetic expression to mutiply then add integers\n",
    "(3*4)+5"
   ]
  },
  {
   "cell_type": "code",
   "execution_count": 34,
   "id": "322c8520-5bbc-44d6-a2a8-aa4ddea099e8",
   "metadata": {
    "tags": []
   },
   "outputs": [
    {
     "name": "stdout",
     "output_type": "stream",
     "text": [
      "3.3333333333333335\n"
     ]
    }
   ],
   "source": [
    "# This will convert 200 minutes to hours by dividing by 60.\n",
    "minutes = 200\n",
    "hours = minutes / 60\n",
    "print (hours)"
   ]
  },
  {
   "cell_type": "markdown",
   "id": "5e74d8f1-0e9f-4679-b99b-bf8e1c642640",
   "metadata": {},
   "source": [
    "## Author\n",
    "\n",
    "Wili Williana\n"
   ]
  },
  {
   "cell_type": "code",
   "execution_count": null,
   "id": "b948e960-463e-4123-b117-06b15c263b00",
   "metadata": {},
   "outputs": [],
   "source": []
  }
 ],
 "metadata": {
  "kernelspec": {
   "display_name": "Python 3 (ipykernel)",
   "language": "python",
   "name": "python3"
  },
  "language_info": {
   "codemirror_mode": {
    "name": "ipython",
    "version": 3
   },
   "file_extension": ".py",
   "mimetype": "text/x-python",
   "name": "python",
   "nbconvert_exporter": "python",
   "pygments_lexer": "ipython3",
   "version": "3.11.5"
  }
 },
 "nbformat": 4,
 "nbformat_minor": 5
}
